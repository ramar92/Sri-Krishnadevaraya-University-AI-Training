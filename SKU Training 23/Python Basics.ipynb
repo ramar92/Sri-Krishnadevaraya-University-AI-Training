{
 "cells": [
  {
   "cell_type": "markdown",
   "id": "154fdf3f",
   "metadata": {},
   "source": [
    "## Python Concepts:  \n",
    "    1. Variables\n",
    "    2. Data Types\n",
    "    3. Opr. \n",
    "    4. Conditional Stat.\n",
    "    5. Looping Stat. \n",
    "    6. Function \n",
    "    7. File \n",
    "    9. OOP's "
   ]
  },
  {
   "cell_type": "code",
   "execution_count": 2,
   "id": "40796e0a",
   "metadata": {},
   "outputs": [],
   "source": [
    "# List: \n",
    "list1 = [] "
   ]
  },
  {
   "cell_type": "code",
   "execution_count": 4,
   "id": "e9612f7f",
   "metadata": {},
   "outputs": [
    {
     "name": "stdout",
     "output_type": "stream",
     "text": [
      "<class 'list'>\n"
     ]
    }
   ],
   "source": [
    "print(type(list1))"
   ]
  },
  {
   "cell_type": "code",
   "execution_count": 5,
   "id": "668b9530",
   "metadata": {},
   "outputs": [
    {
     "data": {
      "text/plain": [
       "list"
      ]
     },
     "execution_count": 5,
     "metadata": {},
     "output_type": "execute_result"
    }
   ],
   "source": [
    "list2 = list()\n",
    "type(list2)"
   ]
  },
  {
   "cell_type": "code",
   "execution_count": 6,
   "id": "7c7ca288",
   "metadata": {},
   "outputs": [],
   "source": [
    "list1 = [1,2,3,4,5,6,7,8,9,10]"
   ]
  },
  {
   "cell_type": "code",
   "execution_count": 7,
   "id": "93c12e9f",
   "metadata": {},
   "outputs": [
    {
     "data": {
      "text/plain": [
       "2"
      ]
     },
     "execution_count": 7,
     "metadata": {},
     "output_type": "execute_result"
    }
   ],
   "source": [
    "list1[1]"
   ]
  },
  {
   "cell_type": "code",
   "execution_count": 10,
   "id": "2876d033",
   "metadata": {},
   "outputs": [
    {
     "data": {
      "text/plain": [
       "9"
      ]
     },
     "execution_count": 10,
     "metadata": {},
     "output_type": "execute_result"
    }
   ],
   "source": [
    "list1[-2]"
   ]
  },
  {
   "cell_type": "code",
   "execution_count": null,
   "id": "d885ab8a",
   "metadata": {},
   "outputs": [],
   "source": [
    "# [:]"
   ]
  },
  {
   "cell_type": "code",
   "execution_count": 9,
   "id": "5a58000a",
   "metadata": {},
   "outputs": [
    {
     "data": {
      "text/plain": [
       "[1, 2, 3, 4, 5, 6, 7, 8, 9, 10]"
      ]
     },
     "execution_count": 9,
     "metadata": {},
     "output_type": "execute_result"
    }
   ],
   "source": [
    "list1"
   ]
  },
  {
   "cell_type": "code",
   "execution_count": 14,
   "id": "4f14732c",
   "metadata": {},
   "outputs": [
    {
     "data": {
      "text/plain": [
       "[2, 3, 4, 5, 6]"
      ]
     },
     "execution_count": 14,
     "metadata": {},
     "output_type": "execute_result"
    }
   ],
   "source": [
    "list1[1:6]"
   ]
  },
  {
   "cell_type": "code",
   "execution_count": 15,
   "id": "14994f28",
   "metadata": {},
   "outputs": [
    {
     "data": {
      "text/plain": [
       "[1, 3, 5, 7, 9]"
      ]
     },
     "execution_count": 15,
     "metadata": {},
     "output_type": "execute_result"
    }
   ],
   "source": [
    "list1[::2]"
   ]
  },
  {
   "cell_type": "code",
   "execution_count": null,
   "id": "0aa38f4e",
   "metadata": {},
   "outputs": [],
   "source": [
    "list1[start value:End Value:Jumping value]"
   ]
  },
  {
   "cell_type": "code",
   "execution_count": 18,
   "id": "45fc2bc3",
   "metadata": {},
   "outputs": [
    {
     "data": {
      "text/plain": [
       "[2, 4, 6, 8, 10]"
      ]
     },
     "execution_count": 18,
     "metadata": {},
     "output_type": "execute_result"
    }
   ],
   "source": [
    "list1[1::2]"
   ]
  },
  {
   "cell_type": "code",
   "execution_count": 22,
   "id": "8a1c6224",
   "metadata": {},
   "outputs": [
    {
     "data": {
      "text/plain": [
       "[1, 2, 3, 4, 5, 6, 7]"
      ]
     },
     "execution_count": 22,
     "metadata": {},
     "output_type": "execute_result"
    }
   ],
   "source": [
    "list1[:7]"
   ]
  },
  {
   "cell_type": "code",
   "execution_count": 23,
   "id": "225ae2b7",
   "metadata": {},
   "outputs": [
    {
     "data": {
      "text/plain": [
       "[1, 2, 3, 4, 5, 6, 7, 8, 9, 10]"
      ]
     },
     "execution_count": 23,
     "metadata": {},
     "output_type": "execute_result"
    }
   ],
   "source": [
    "list1"
   ]
  },
  {
   "cell_type": "code",
   "execution_count": 26,
   "id": "16db3437",
   "metadata": {},
   "outputs": [],
   "source": [
    "list1[-2] = 90 "
   ]
  },
  {
   "cell_type": "code",
   "execution_count": 27,
   "id": "15b22426",
   "metadata": {},
   "outputs": [
    {
     "data": {
      "text/plain": [
       "[1, 2, 3, 4, 5, 6, 7, 8, 90, 10]"
      ]
     },
     "execution_count": 27,
     "metadata": {},
     "output_type": "execute_result"
    }
   ],
   "source": [
    "list1"
   ]
  },
  {
   "cell_type": "code",
   "execution_count": 30,
   "id": "9f84351d",
   "metadata": {},
   "outputs": [],
   "source": [
    "list3 = [1,2,3, 'ram', 2.3,5.6,[3,4,6]]"
   ]
  },
  {
   "cell_type": "code",
   "execution_count": 31,
   "id": "a6324872",
   "metadata": {},
   "outputs": [
    {
     "data": {
      "text/plain": [
       "list"
      ]
     },
     "execution_count": 31,
     "metadata": {},
     "output_type": "execute_result"
    }
   ],
   "source": [
    "type(list3)"
   ]
  },
  {
   "cell_type": "code",
   "execution_count": null,
   "id": "44ed9445",
   "metadata": {},
   "outputs": [],
   "source": [
    "# Tuple\n",
    "1. create tuple using () \n",
    "2. creat tuple using tuple() \n",
    "3. create tuple using without (). \n",
    "4. this immutable (can't modify)\n",
    "5. traveld by Index values "
   ]
  },
  {
   "cell_type": "code",
   "execution_count": 32,
   "id": "400d168f",
   "metadata": {},
   "outputs": [
    {
     "data": {
      "text/plain": [
       "tuple"
      ]
     },
     "execution_count": 32,
     "metadata": {},
     "output_type": "execute_result"
    }
   ],
   "source": [
    "t1 = () \n",
    "type(t1)"
   ]
  },
  {
   "cell_type": "code",
   "execution_count": 33,
   "id": "853b860c",
   "metadata": {},
   "outputs": [
    {
     "data": {
      "text/plain": [
       "tuple"
      ]
     },
     "execution_count": 33,
     "metadata": {},
     "output_type": "execute_result"
    }
   ],
   "source": [
    "t2 = tuple()\n",
    "type(t2)"
   ]
  },
  {
   "cell_type": "code",
   "execution_count": 36,
   "id": "7db408ff",
   "metadata": {},
   "outputs": [],
   "source": [
    "t1=(1,2,3,4,5)"
   ]
  },
  {
   "cell_type": "code",
   "execution_count": 38,
   "id": "92ef03ea",
   "metadata": {},
   "outputs": [],
   "source": [
    "t3 = 10,9,8,7,6"
   ]
  },
  {
   "cell_type": "code",
   "execution_count": 39,
   "id": "500eace7",
   "metadata": {},
   "outputs": [
    {
     "data": {
      "text/plain": [
       "tuple"
      ]
     },
     "execution_count": 39,
     "metadata": {},
     "output_type": "execute_result"
    }
   ],
   "source": [
    "type(t3)"
   ]
  },
  {
   "cell_type": "code",
   "execution_count": 44,
   "id": "5541c52e",
   "metadata": {},
   "outputs": [],
   "source": [
    "c = 1,2,3"
   ]
  },
  {
   "cell_type": "code",
   "execution_count": 45,
   "id": "98708d6d",
   "metadata": {},
   "outputs": [
    {
     "data": {
      "text/plain": [
       "tuple"
      ]
     },
     "execution_count": 45,
     "metadata": {},
     "output_type": "execute_result"
    }
   ],
   "source": [
    "type(c)"
   ]
  },
  {
   "cell_type": "code",
   "execution_count": 46,
   "id": "8ac2060f",
   "metadata": {},
   "outputs": [
    {
     "data": {
      "text/plain": [
       "(1, 2, 3, 4, 5)"
      ]
     },
     "execution_count": 46,
     "metadata": {},
     "output_type": "execute_result"
    }
   ],
   "source": [
    "t1 "
   ]
  },
  {
   "cell_type": "code",
   "execution_count": 48,
   "id": "1f95e93a",
   "metadata": {},
   "outputs": [
    {
     "data": {
      "text/plain": [
       "3"
      ]
     },
     "execution_count": 48,
     "metadata": {},
     "output_type": "execute_result"
    }
   ],
   "source": [
    "t1[-3]"
   ]
  },
  {
   "cell_type": "code",
   "execution_count": 49,
   "id": "355f4df0",
   "metadata": {},
   "outputs": [
    {
     "data": {
      "text/plain": [
       "(2, 3, 4)"
      ]
     },
     "execution_count": 49,
     "metadata": {},
     "output_type": "execute_result"
    }
   ],
   "source": [
    "t1[1:4]"
   ]
  },
  {
   "cell_type": "code",
   "execution_count": 50,
   "id": "fef54b59",
   "metadata": {},
   "outputs": [],
   "source": [
    "tmixed = (1,2,3,'Helo',[1,2,3],5.6,9.0)"
   ]
  },
  {
   "cell_type": "code",
   "execution_count": 53,
   "id": "a04d1f62",
   "metadata": {},
   "outputs": [
    {
     "ename": "TypeError",
     "evalue": "'tuple' object does not support item assignment",
     "output_type": "error",
     "traceback": [
      "\u001b[1;31m---------------------------------------------------------------------------\u001b[0m",
      "\u001b[1;31mTypeError\u001b[0m                                 Traceback (most recent call last)",
      "Cell \u001b[1;32mIn[53], line 1\u001b[0m\n\u001b[1;32m----> 1\u001b[0m tmixed[\u001b[38;5;241m3\u001b[39m] \u001b[38;5;241m=\u001b[39m \u001b[38;5;241m4\u001b[39m\n",
      "\u001b[1;31mTypeError\u001b[0m: 'tuple' object does not support item assignment"
     ]
    }
   ],
   "source": [
    "tmixed[3] = 4"
   ]
  },
  {
   "cell_type": "code",
   "execution_count": null,
   "id": "34594322",
   "metadata": {},
   "outputs": [],
   "source": [
    "# dict \n",
    "1. Key & value based data \n",
    "2. create dict using {} \n",
    "3. create by dict() \n",
    "4. mutable - modify \n",
    "5. travel by key  "
   ]
  },
  {
   "cell_type": "code",
   "execution_count": 54,
   "id": "e728e915",
   "metadata": {},
   "outputs": [
    {
     "data": {
      "text/plain": [
       "dict"
      ]
     },
     "execution_count": 54,
     "metadata": {},
     "output_type": "execute_result"
    }
   ],
   "source": [
    "d1 = {} \n",
    "type(d1)"
   ]
  },
  {
   "cell_type": "code",
   "execution_count": 55,
   "id": "90ddb2e8",
   "metadata": {},
   "outputs": [
    {
     "data": {
      "text/plain": [
       "dict"
      ]
     },
     "execution_count": 55,
     "metadata": {},
     "output_type": "execute_result"
    }
   ],
   "source": [
    "d2 = dict()\n",
    "type(d2)"
   ]
  },
  {
   "cell_type": "code",
   "execution_count": 57,
   "id": "cc6105c5",
   "metadata": {},
   "outputs": [],
   "source": [
    "d1 = {\n",
    "    1 : 'ram', \n",
    "    2 : 'Madurai',\n",
    "    3 : 9790843015\n",
    "}"
   ]
  },
  {
   "cell_type": "code",
   "execution_count": 59,
   "id": "532f9403",
   "metadata": {},
   "outputs": [
    {
     "data": {
      "text/plain": [
       "{1: 'ram', 2: 'Madurai', 3: 9790843015}"
      ]
     },
     "execution_count": 59,
     "metadata": {},
     "output_type": "execute_result"
    }
   ],
   "source": [
    "d1"
   ]
  },
  {
   "cell_type": "code",
   "execution_count": 63,
   "id": "dd6518a8",
   "metadata": {},
   "outputs": [
    {
     "data": {
      "text/plain": [
       "9790843015"
      ]
     },
     "execution_count": 63,
     "metadata": {},
     "output_type": "execute_result"
    }
   ],
   "source": [
    "d1[3]"
   ]
  },
  {
   "cell_type": "code",
   "execution_count": 65,
   "id": "04290ffa",
   "metadata": {},
   "outputs": [],
   "source": [
    "d2={\n",
    "    'std_name' : ['Savitha','Kumar','Rajesh','Pavi'], \n",
    "    'std_age':(23,34,25,27),\n",
    "    'std_Ph':[328828374,4397539583,87943753,348573975]\n",
    "}"
   ]
  },
  {
   "cell_type": "code",
   "execution_count": 75,
   "id": "7b7cd928",
   "metadata": {},
   "outputs": [],
   "source": [
    "d2['std_Ph'][1] = 9790843015"
   ]
  },
  {
   "cell_type": "code",
   "execution_count": 76,
   "id": "7e5f7422",
   "metadata": {},
   "outputs": [
    {
     "data": {
      "text/plain": [
       "{'std_name': ['Savitha', 'Kumar', 'Rajesh', 'Pavi'],\n",
       " 'std_age': (23, 34, 25, 27),\n",
       " 'std_Ph': [328828374, 9790843015, 87943753, 348573975]}"
      ]
     },
     "execution_count": 76,
     "metadata": {},
     "output_type": "execute_result"
    }
   ],
   "source": [
    "d2"
   ]
  },
  {
   "cell_type": "code",
   "execution_count": 77,
   "id": "e0787af3",
   "metadata": {},
   "outputs": [],
   "source": [
    "import pandas as pd \n",
    "df = pd.DataFrame(d2)"
   ]
  },
  {
   "cell_type": "code",
   "execution_count": 78,
   "id": "dc68c4cc",
   "metadata": {},
   "outputs": [
    {
     "data": {
      "text/html": [
       "<div>\n",
       "<style scoped>\n",
       "    .dataframe tbody tr th:only-of-type {\n",
       "        vertical-align: middle;\n",
       "    }\n",
       "\n",
       "    .dataframe tbody tr th {\n",
       "        vertical-align: top;\n",
       "    }\n",
       "\n",
       "    .dataframe thead th {\n",
       "        text-align: right;\n",
       "    }\n",
       "</style>\n",
       "<table border=\"1\" class=\"dataframe\">\n",
       "  <thead>\n",
       "    <tr style=\"text-align: right;\">\n",
       "      <th></th>\n",
       "      <th>std_name</th>\n",
       "      <th>std_age</th>\n",
       "      <th>std_Ph</th>\n",
       "    </tr>\n",
       "  </thead>\n",
       "  <tbody>\n",
       "    <tr>\n",
       "      <th>0</th>\n",
       "      <td>Savitha</td>\n",
       "      <td>23</td>\n",
       "      <td>328828374</td>\n",
       "    </tr>\n",
       "    <tr>\n",
       "      <th>1</th>\n",
       "      <td>Kumar</td>\n",
       "      <td>34</td>\n",
       "      <td>9790843015</td>\n",
       "    </tr>\n",
       "    <tr>\n",
       "      <th>2</th>\n",
       "      <td>Rajesh</td>\n",
       "      <td>25</td>\n",
       "      <td>87943753</td>\n",
       "    </tr>\n",
       "    <tr>\n",
       "      <th>3</th>\n",
       "      <td>Pavi</td>\n",
       "      <td>27</td>\n",
       "      <td>348573975</td>\n",
       "    </tr>\n",
       "  </tbody>\n",
       "</table>\n",
       "</div>"
      ],
      "text/plain": [
       "  std_name  std_age      std_Ph\n",
       "0  Savitha       23   328828374\n",
       "1    Kumar       34  9790843015\n",
       "2   Rajesh       25    87943753\n",
       "3     Pavi       27   348573975"
      ]
     },
     "execution_count": 78,
     "metadata": {},
     "output_type": "execute_result"
    }
   ],
   "source": [
    "df"
   ]
  },
  {
   "cell_type": "code",
   "execution_count": null,
   "id": "b5089666",
   "metadata": {},
   "outputs": [],
   "source": [
    "# set :  \n",
    "1. create set using {} \n",
    "2. create set()\n",
    "3. modify "
   ]
  },
  {
   "cell_type": "code",
   "execution_count": 81,
   "id": "97864725",
   "metadata": {},
   "outputs": [
    {
     "data": {
      "text/plain": [
       "set"
      ]
     },
     "execution_count": 81,
     "metadata": {},
     "output_type": "execute_result"
    }
   ],
   "source": [
    "s1 = {1,2,3,4,5} \n",
    "type(s1)"
   ]
  },
  {
   "cell_type": "code",
   "execution_count": 82,
   "id": "ddf14043",
   "metadata": {},
   "outputs": [],
   "source": [
    "s2 = {4,5,6,7,8}"
   ]
  },
  {
   "cell_type": "code",
   "execution_count": 83,
   "id": "741194b2",
   "metadata": {},
   "outputs": [
    {
     "data": {
      "text/plain": [
       "{1, 2, 3, 4, 5, 6, 7, 8}"
      ]
     },
     "execution_count": 83,
     "metadata": {},
     "output_type": "execute_result"
    }
   ],
   "source": [
    "s1.union(s2)"
   ]
  },
  {
   "cell_type": "code",
   "execution_count": 84,
   "id": "80c85ad7",
   "metadata": {},
   "outputs": [
    {
     "data": {
      "text/plain": [
       "{4, 5}"
      ]
     },
     "execution_count": 84,
     "metadata": {},
     "output_type": "execute_result"
    }
   ],
   "source": [
    "s1.intersection(s2)"
   ]
  },
  {
   "cell_type": "code",
   "execution_count": 85,
   "id": "0397a143",
   "metadata": {},
   "outputs": [
    {
     "data": {
      "text/plain": [
       "{1, 2, 3}"
      ]
     },
     "execution_count": 85,
     "metadata": {},
     "output_type": "execute_result"
    }
   ],
   "source": [
    "s1.difference(s2)"
   ]
  },
  {
   "cell_type": "code",
   "execution_count": 86,
   "id": "9e4f28b8",
   "metadata": {},
   "outputs": [
    {
     "data": {
      "text/plain": [
       "{6, 7, 8}"
      ]
     },
     "execution_count": 86,
     "metadata": {},
     "output_type": "execute_result"
    }
   ],
   "source": [
    "s2.difference(s1)"
   ]
  },
  {
   "cell_type": "code",
   "execution_count": null,
   "id": "58e0e95a",
   "metadata": {},
   "outputs": [],
   "source": [
    "# Conditional Stat. \n",
    "1. Simple IF \n",
    "2. IF Else \n",
    "3. ELSE IF \n",
    "4. Nested IF "
   ]
  },
  {
   "cell_type": "code",
   "execution_count": null,
   "id": "7444ced1",
   "metadata": {},
   "outputs": [],
   "source": [
    "# Syntax : \n",
    "\n",
    "if expression: \n",
    "    True Block codes \n",
    "    "
   ]
  },
  {
   "cell_type": "code",
   "execution_count": 93,
   "id": "ebe07ab2",
   "metadata": {},
   "outputs": [
    {
     "name": "stdout",
     "output_type": "stream",
     "text": [
      "Enter Age:23\n",
      "You are eligible to vote!!\n"
     ]
    }
   ],
   "source": [
    "# eligible to vote \n",
    "age = int(input('Enter Age:'))\n",
    "if age >= 18:\n",
    "    print(\"You are eligible to vote!!\")"
   ]
  },
  {
   "cell_type": "code",
   "execution_count": 94,
   "id": "b07cabbb",
   "metadata": {},
   "outputs": [
    {
     "name": "stdout",
     "output_type": "stream",
     "text": [
      "Enter A:34\n",
      "Enter B:2\n",
      "Enter C:30\n",
      "A is big\n"
     ]
    }
   ],
   "source": [
    "a = int(input(\"Enter A:\"))\n",
    "b = int(input(\"Enter B:\"))\n",
    "c = int(input(\"Enter C:\")) \n",
    "\n",
    "\n",
    "if a > b and a > c :\n",
    "    print('A is big')"
   ]
  },
  {
   "cell_type": "code",
   "execution_count": 96,
   "id": "895f3aa9",
   "metadata": {},
   "outputs": [
    {
     "name": "stdout",
     "output_type": "stream",
     "text": [
      "Enter Age:18\n",
      "You are eligible to vote!!\n"
     ]
    }
   ],
   "source": [
    "# if else : \n",
    "\n",
    "# eligible to vote \n",
    "age = int(input('Enter Age:'))\n",
    "if age >= 18:\n",
    "    print(\"You are eligible to vote!!\") \n",
    "else: \n",
    "    print(\"You are not eligible to vote.!!\")"
   ]
  },
  {
   "cell_type": "code",
   "execution_count": null,
   "id": "757a7b84",
   "metadata": {},
   "outputs": [],
   "source": [
    "if else syntax: \n",
    "\n",
    "if expr/condition : \n",
    "    True Block codes\n",
    "else: \n",
    "    False Block codes "
   ]
  },
  {
   "cell_type": "code",
   "execution_count": null,
   "id": "a23850a4",
   "metadata": {},
   "outputs": [],
   "source": [
    "else if - Syntax : \n",
    "    \n",
    "if expr / condition:\n",
    "    True block codes \n",
    "elif expr / codition: \n",
    "    True block codes \n",
    "else: \n",
    "    False block codes"
   ]
  },
  {
   "cell_type": "code",
   "execution_count": 97,
   "id": "9d475eab",
   "metadata": {},
   "outputs": [
    {
     "name": "stdout",
     "output_type": "stream",
     "text": [
      "Enter A:34\n",
      "Enter B:230\n",
      "Enter C:120\n",
      "B is big\n"
     ]
    }
   ],
   "source": [
    "a = int(input(\"Enter A:\"))\n",
    "b = int(input(\"Enter B:\"))\n",
    "c = int(input(\"Enter C:\")) \n",
    "\n",
    "\n",
    "if a > b and a > c :\n",
    "    print('A is big')\n",
    "elif b > c: \n",
    "    print('B is big')\n",
    "else:\n",
    "    print('C is big')"
   ]
  },
  {
   "cell_type": "code",
   "execution_count": 98,
   "id": "6e038cd6",
   "metadata": {},
   "outputs": [
    {
     "name": "stdout",
     "output_type": "stream",
     "text": [
      "Enter A:1000\n",
      "Enter B:20\n",
      "Enter C:89\n",
      "A is big\n"
     ]
    }
   ],
   "source": [
    "a = int(input(\"Enter A:\"))\n",
    "b = int(input(\"Enter B:\"))\n",
    "c = int(input(\"Enter C:\")) \n",
    "\n",
    "\n",
    "if a > b :\n",
    "    if a > c :\n",
    "        print('A is big')\n",
    "elif b > c: \n",
    "    print('B is big')\n",
    "else:\n",
    "    print('C is big')"
   ]
  },
  {
   "cell_type": "code",
   "execution_count": null,
   "id": "5d07279a",
   "metadata": {},
   "outputs": [],
   "source": [
    "# looping stat. \n",
    "1. for loop -- else\n",
    "2. while loop -- else"
   ]
  },
  {
   "cell_type": "code",
   "execution_count": null,
   "id": "c48f581b",
   "metadata": {},
   "outputs": [],
   "source": [
    "# for loop\n",
    "\n",
    "for init: conditio : in/de{\n",
    "    \n",
    "}\n",
    "Python for loop\n",
    "\n",
    "for variable in sequence:\n",
    "    codes\n"
   ]
  },
  {
   "cell_type": "code",
   "execution_count": null,
   "id": "0be6f258",
   "metadata": {},
   "outputs": [],
   "source": [
    "# sequence: \n",
    "  1. string = 'hello edunet'\n",
    "  2. list, tuple - (1,2,3,4) - [1,2,3,4]\n",
    "  3. range() while hlpes run the for loop. "
   ]
  },
  {
   "cell_type": "code",
   "execution_count": 100,
   "id": "0de59637",
   "metadata": {},
   "outputs": [
    {
     "name": "stdout",
     "output_type": "stream",
     "text": [
      "1\n",
      "2\n",
      "3\n",
      "4\n",
      "5\n"
     ]
    }
   ],
   "source": [
    "for i in [1,2,3,4,5]: \n",
    "    print(i)"
   ]
  },
  {
   "cell_type": "code",
   "execution_count": 105,
   "id": "28d76793",
   "metadata": {},
   "outputs": [
    {
     "name": "stdout",
     "output_type": "stream",
     "text": [
      "1 . Edunet\n",
      "2 . Edunet\n",
      "3 . Edunet\n",
      "4 . Edunet\n",
      "5 . Edunet\n",
      "6 . Edunet\n",
      "7 . Edunet\n",
      "8 . Edunet\n",
      "9 . Edunet\n",
      "10 . Edunet\n"
     ]
    }
   ],
   "source": [
    "for i in range(1,11):\n",
    "    print(i,\". Edunet\")"
   ]
  },
  {
   "cell_type": "code",
   "execution_count": 108,
   "id": "8edcd347",
   "metadata": {},
   "outputs": [
    {
     "name": "stdout",
     "output_type": "stream",
     "text": [
      "Enter N:100\n",
      "The sum of values : 5050\n"
     ]
    }
   ],
   "source": [
    "n = int(input(\"Enter N:\"))\n",
    "sum = 0\n",
    "for i in range(1,n+1):\n",
    "    sum = sum + i\n",
    "else: \n",
    "    print(\"The sum of values :\", sum)"
   ]
  },
  {
   "cell_type": "code",
   "execution_count": null,
   "id": "1b0aef6c",
   "metadata": {},
   "outputs": [],
   "source": [
    "# while loop "
   ]
  },
  {
   "cell_type": "code",
   "execution_count": null,
   "id": "c69c982f",
   "metadata": {},
   "outputs": [],
   "source": [
    "initi-variable\n",
    "while expresion: \n",
    "    codes \n",
    "    incre/decr.. "
   ]
  },
  {
   "cell_type": "code",
   "execution_count": 111,
   "id": "47f1938e",
   "metadata": {},
   "outputs": [
    {
     "name": "stdout",
     "output_type": "stream",
     "text": [
      "1\n",
      "2\n",
      "3\n",
      "4\n",
      "5\n",
      "6\n",
      "7\n",
      "8\n",
      "9\n",
      "10\n"
     ]
    }
   ],
   "source": [
    "i = 1\n",
    "while i <= 10: \n",
    "    print(i)\n",
    "    i = i + 1 "
   ]
  },
  {
   "cell_type": "code",
   "execution_count": 112,
   "id": "dc1d467f",
   "metadata": {},
   "outputs": [
    {
     "name": "stdout",
     "output_type": "stream",
     "text": [
      "1\n",
      "2\n",
      "3\n",
      "4\n",
      "5\n",
      "6\n",
      "7\n",
      "8\n",
      "9\n",
      "10\n",
      "Codition failer\n"
     ]
    }
   ],
   "source": [
    "i = 1\n",
    "while i <= 10: \n",
    "    print(i)\n",
    "    i = i + 1\n",
    "else: \n",
    "    print(\"Codition failer\")"
   ]
  },
  {
   "cell_type": "code",
   "execution_count": null,
   "id": "cb27682f",
   "metadata": {},
   "outputs": [],
   "source": [
    "Function: \n",
    "    1. pre defined function \n",
    "    2. user defined function "
   ]
  },
  {
   "cell_type": "code",
   "execution_count": null,
   "id": "c7b6d5c8",
   "metadata": {},
   "outputs": [],
   "source": [
    "User Defined funtion: \n",
    "\n",
    "def function_Name(p1,p2...Pn):\n",
    "    codes...  \n",
    "    return values \n"
   ]
  },
  {
   "cell_type": "code",
   "execution_count": 114,
   "id": "5a080b4a",
   "metadata": {},
   "outputs": [],
   "source": [
    "def add_Two(v1, v2): \n",
    "    added = v1 + v2 \n",
    "    return added"
   ]
  },
  {
   "cell_type": "code",
   "execution_count": 116,
   "id": "21f4661a",
   "metadata": {},
   "outputs": [
    {
     "data": {
      "text/plain": [
       "5"
      ]
     },
     "execution_count": 116,
     "metadata": {},
     "output_type": "execute_result"
    }
   ],
   "source": [
    "add_Two(2,3)\n",
    "# call by values"
   ]
  },
  {
   "cell_type": "code",
   "execution_count": 117,
   "id": "825ba7c8",
   "metadata": {},
   "outputs": [
    {
     "name": "stdout",
     "output_type": "stream",
     "text": [
      "Enter a23\n",
      "Enter b34\n"
     ]
    },
    {
     "data": {
      "text/plain": [
       "57"
      ]
     },
     "execution_count": 117,
     "metadata": {},
     "output_type": "execute_result"
    }
   ],
   "source": [
    "a = int(input(\"Enter a\"))\n",
    "b = int(input(\"Enter b\")) \n",
    "\n",
    "add_Two(a,b)\n",
    "#call reference "
   ]
  },
  {
   "cell_type": "code",
   "execution_count": 120,
   "id": "616af813",
   "metadata": {},
   "outputs": [],
   "source": [
    "def add_Two1():\n",
    "    a = int(input(\"Enter a\"))\n",
    "    b = int(input(\"Enter b\")) \n",
    "    c = a + b \n",
    "    print(c)"
   ]
  },
  {
   "cell_type": "code",
   "execution_count": 122,
   "id": "64494df5",
   "metadata": {},
   "outputs": [
    {
     "name": "stdout",
     "output_type": "stream",
     "text": [
      "Enter a89\n",
      "Enter b545\n",
      "634\n"
     ]
    }
   ],
   "source": [
    "add_Two1()"
   ]
  },
  {
   "cell_type": "code",
   "execution_count": 2,
   "id": "2bdd6733",
   "metadata": {},
   "outputs": [],
   "source": [
    "## File  \n",
    "\n",
    "file = open('C:/Users/RAMAR BOSE/Desktop/demoText.txt', 'r')\n"
   ]
  },
  {
   "cell_type": "code",
   "execution_count": 5,
   "id": "6ad5583b",
   "metadata": {},
   "outputs": [
    {
     "name": "stdout",
     "output_type": "stream",
     "text": [
      "\n"
     ]
    }
   ],
   "source": [
    "print(file.read())"
   ]
  },
  {
   "cell_type": "code",
   "execution_count": 6,
   "id": "a2085c41",
   "metadata": {},
   "outputs": [
    {
     "name": "stdout",
     "output_type": "stream",
     "text": [
      "Hello Edunet!\n"
     ]
    }
   ],
   "source": [
    "data = open('c:/Users/RAMAR BOSE/Desktop/test.txt', 'r')\n",
    "\n",
    "print(data.read())"
   ]
  },
  {
   "cell_type": "code",
   "execution_count": 9,
   "id": "b77d4749",
   "metadata": {},
   "outputs": [],
   "source": [
    "file=open(\"gangasireesha.txt\",\"w\")\n"
   ]
  },
  {
   "cell_type": "code",
   "execution_count": 10,
   "id": "9305349b",
   "metadata": {},
   "outputs": [],
   "source": [
    "file.write(\"my father name is sreeramulu\")\n",
    "file.write(\"hello\")\n",
    "file.close()"
   ]
  },
  {
   "cell_type": "code",
   "execution_count": 16,
   "id": "2b639d5d",
   "metadata": {},
   "outputs": [
    {
     "name": "stdout",
     "output_type": "stream",
     "text": [
      "my father name is sreeramuluhello\n"
     ]
    }
   ],
   "source": [
    "fileopen = open('gangasireesha.txt', 'r')\n",
    "print(fileopen.read())"
   ]
  },
  {
   "cell_type": "code",
   "execution_count": 17,
   "id": "58cb9836",
   "metadata": {},
   "outputs": [],
   "source": [
    "writefile = open('rambs.txt', 'w')\n",
    "writefile.write('Hello this is demo to AI file \\n')\n",
    "writefile.write('Edunet provide the AI Course \\n')\n",
    "writefile.close()"
   ]
  },
  {
   "cell_type": "code",
   "execution_count": 18,
   "id": "c26abedd",
   "metadata": {},
   "outputs": [
    {
     "name": "stdout",
     "output_type": "stream",
     "text": [
      "Hello this is demo to AI file \n",
      "Edunet provide the AI Course \n",
      "\n"
     ]
    }
   ],
   "source": [
    "readfile = open('rambs.txt', 'r')\n",
    "print(readfile.read())"
   ]
  },
  {
   "cell_type": "code",
   "execution_count": 19,
   "id": "7212bc0e",
   "metadata": {},
   "outputs": [
    {
     "name": "stdout",
     "output_type": "stream",
     "text": [
      "Collecting mysql-connector-python\n",
      "  Obtaining dependency information for mysql-connector-python from https://files.pythonhosted.org/packages/a7/84/b63f11124f808b6f1e3389072bc36cc907929d7574e85f94bf8f18117fe4/mysql_connector_python-8.2.0-cp311-cp311-win_amd64.whl.metadata\n",
      "  Downloading mysql_connector_python-8.2.0-cp311-cp311-win_amd64.whl.metadata (2.1 kB)\n",
      "Collecting protobuf<=4.21.12,>=4.21.1 (from mysql-connector-python)\n",
      "  Downloading protobuf-4.21.12-cp310-abi3-win_amd64.whl (527 kB)\n",
      "     ---------------------------------------- 0.0/527.0 kB ? eta -:--:--\n",
      "      --------------------------------------- 10.2/527.0 kB ? eta -:--:--\n",
      "     -- ---------------------------------- 30.7/527.0 kB 435.7 kB/s eta 0:00:02\n",
      "     -- ---------------------------------- 41.0/527.0 kB 281.8 kB/s eta 0:00:02\n",
      "     ----- ------------------------------- 81.9/527.0 kB 416.7 kB/s eta 0:00:02\n",
      "     -------- --------------------------- 122.9/527.0 kB 481.4 kB/s eta 0:00:01\n",
      "     --------- -------------------------- 143.4/527.0 kB 500.5 kB/s eta 0:00:01\n",
      "     ------------------ ----------------- 266.2/527.0 kB 780.5 kB/s eta 0:00:01\n",
      "     -------------------- --------------- 297.0/527.0 kB 764.6 kB/s eta 0:00:01\n",
      "     ----------------------------------- -- 491.5/527.0 kB 1.1 MB/s eta 0:00:01\n",
      "     -------------------------------------- 527.0/527.0 kB 1.1 MB/s eta 0:00:00\n",
      "Downloading mysql_connector_python-8.2.0-cp311-cp311-win_amd64.whl (14.2 MB)\n",
      "   ---------------------------------------- 0.0/14.2 MB ? eta -:--:--\n",
      "    --------------------------------------- 0.2/14.2 MB 7.6 MB/s eta 0:00:02\n",
      "   - -------------------------------------- 0.4/14.2 MB 4.7 MB/s eta 0:00:03\n",
      "   - -------------------------------------- 0.6/14.2 MB 4.6 MB/s eta 0:00:03\n",
      "   -- ------------------------------------- 0.8/14.2 MB 4.8 MB/s eta 0:00:03\n",
      "   -- ------------------------------------- 1.0/14.2 MB 4.6 MB/s eta 0:00:03\n",
      "   --- ------------------------------------ 1.2/14.2 MB 4.2 MB/s eta 0:00:04\n",
      "   --- ------------------------------------ 1.3/14.2 MB 4.2 MB/s eta 0:00:04\n",
      "   ---- ----------------------------------- 1.5/14.2 MB 3.9 MB/s eta 0:00:04\n",
      "   ---- ----------------------------------- 1.6/14.2 MB 3.7 MB/s eta 0:00:04\n",
      "   ---- ----------------------------------- 1.6/14.2 MB 3.7 MB/s eta 0:00:04\n",
      "   ----- ---------------------------------- 1.9/14.2 MB 3.6 MB/s eta 0:00:04\n",
      "   ----- ---------------------------------- 1.9/14.2 MB 3.6 MB/s eta 0:00:04\n",
      "   ----- ---------------------------------- 2.0/14.2 MB 3.3 MB/s eta 0:00:04\n",
      "   ------ --------------------------------- 2.2/14.2 MB 3.4 MB/s eta 0:00:04\n",
      "   ------ --------------------------------- 2.3/14.2 MB 3.2 MB/s eta 0:00:04\n",
      "   ------ --------------------------------- 2.3/14.2 MB 3.2 MB/s eta 0:00:04\n",
      "   ------ --------------------------------- 2.4/14.2 MB 3.0 MB/s eta 0:00:04\n",
      "   ------- -------------------------------- 2.6/14.2 MB 3.1 MB/s eta 0:00:04\n",
      "   ------- -------------------------------- 2.8/14.2 MB 3.2 MB/s eta 0:00:04\n",
      "   -------- ------------------------------- 2.9/14.2 MB 3.1 MB/s eta 0:00:04\n",
      "   -------- ------------------------------- 3.0/14.2 MB 3.1 MB/s eta 0:00:04\n",
      "   --------- ------------------------------ 3.2/14.2 MB 3.1 MB/s eta 0:00:04\n",
      "   --------- ------------------------------ 3.3/14.2 MB 3.0 MB/s eta 0:00:04\n",
      "   --------- ------------------------------ 3.3/14.2 MB 3.0 MB/s eta 0:00:04\n",
      "   --------- ------------------------------ 3.4/14.2 MB 2.9 MB/s eta 0:00:04\n",
      "   --------- ------------------------------ 3.5/14.2 MB 2.9 MB/s eta 0:00:04\n",
      "   ---------- ----------------------------- 3.6/14.2 MB 2.8 MB/s eta 0:00:04\n",
      "   ---------- ----------------------------- 3.8/14.2 MB 2.9 MB/s eta 0:00:04\n",
      "   ----------- ---------------------------- 4.0/14.2 MB 2.9 MB/s eta 0:00:04\n",
      "   ----------- ---------------------------- 4.1/14.2 MB 2.9 MB/s eta 0:00:04\n",
      "   ------------ --------------------------- 4.3/14.2 MB 2.9 MB/s eta 0:00:04\n",
      "   ------------ --------------------------- 4.5/14.2 MB 3.0 MB/s eta 0:00:04\n",
      "   ------------ --------------------------- 4.6/14.2 MB 3.0 MB/s eta 0:00:04\n",
      "   ------------- -------------------------- 4.7/14.2 MB 2.9 MB/s eta 0:00:04\n",
      "   ------------- -------------------------- 4.9/14.2 MB 3.0 MB/s eta 0:00:04\n",
      "   -------------- ------------------------- 5.1/14.2 MB 3.0 MB/s eta 0:00:04\n",
      "   -------------- ------------------------- 5.3/14.2 MB 3.0 MB/s eta 0:00:03\n",
      "   --------------- ------------------------ 5.5/14.2 MB 3.1 MB/s eta 0:00:03\n",
      "   --------------- ------------------------ 5.7/14.2 MB 3.1 MB/s eta 0:00:03\n",
      "   ---------------- ----------------------- 5.8/14.2 MB 3.1 MB/s eta 0:00:03\n",
      "   ---------------- ----------------------- 5.9/14.2 MB 3.0 MB/s eta 0:00:03\n",
      "   ----------------- ---------------------- 6.1/14.2 MB 3.1 MB/s eta 0:00:03\n",
      "   ----------------- ---------------------- 6.2/14.2 MB 3.0 MB/s eta 0:00:03\n",
      "   ----------------- ---------------------- 6.3/14.2 MB 3.0 MB/s eta 0:00:03\n",
      "   ------------------ --------------------- 6.4/14.2 MB 3.0 MB/s eta 0:00:03\n",
      "   ------------------ --------------------- 6.5/14.2 MB 3.0 MB/s eta 0:00:03\n",
      "   ------------------ --------------------- 6.5/14.2 MB 3.0 MB/s eta 0:00:03\n",
      "   ------------------ --------------------- 6.7/14.2 MB 3.0 MB/s eta 0:00:03\n",
      "   ------------------- -------------------- 6.8/14.2 MB 2.9 MB/s eta 0:00:03\n",
      "   ------------------- -------------------- 7.0/14.2 MB 3.0 MB/s eta 0:00:03\n",
      "   -------------------- ------------------- 7.2/14.2 MB 3.0 MB/s eta 0:00:03\n",
      "   -------------------- ------------------- 7.3/14.2 MB 3.0 MB/s eta 0:00:03\n",
      "   -------------------- ------------------- 7.4/14.2 MB 2.9 MB/s eta 0:00:03\n",
      "   --------------------- ------------------ 7.5/14.2 MB 3.0 MB/s eta 0:00:03\n",
      "   --------------------- ------------------ 7.7/14.2 MB 3.0 MB/s eta 0:00:03\n",
      "   ---------------------- ----------------- 7.8/14.2 MB 3.0 MB/s eta 0:00:03\n",
      "   ---------------------- ----------------- 7.9/14.2 MB 2.9 MB/s eta 0:00:03\n",
      "   ---------------------- ----------------- 8.0/14.2 MB 2.9 MB/s eta 0:00:03\n",
      "   ---------------------- ----------------- 8.0/14.2 MB 2.9 MB/s eta 0:00:03\n",
      "   ----------------------- ---------------- 8.2/14.2 MB 2.9 MB/s eta 0:00:03\n",
      "   ----------------------- ---------------- 8.2/14.2 MB 2.9 MB/s eta 0:00:03\n",
      "   ----------------------- ---------------- 8.4/14.2 MB 2.9 MB/s eta 0:00:03\n",
      "   ------------------------ --------------- 8.6/14.2 MB 2.9 MB/s eta 0:00:02\n",
      "   ------------------------ --------------- 8.7/14.2 MB 2.9 MB/s eta 0:00:02\n",
      "   ------------------------ --------------- 8.8/14.2 MB 2.9 MB/s eta 0:00:02\n",
      "   ------------------------- -------------- 8.9/14.2 MB 2.8 MB/s eta 0:00:02\n",
      "   ------------------------- -------------- 9.0/14.2 MB 2.9 MB/s eta 0:00:02\n",
      "   ------------------------- -------------- 9.0/14.2 MB 2.9 MB/s eta 0:00:02\n",
      "   ------------------------- -------------- 9.0/14.2 MB 2.9 MB/s eta 0:00:02\n",
      "   ------------------------- -------------- 9.0/14.2 MB 2.9 MB/s eta 0:00:02\n",
      "   ------------------------- -------------- 9.0/14.2 MB 2.9 MB/s eta 0:00:02\n",
      "   ------------------------- -------------- 9.0/14.2 MB 2.9 MB/s eta 0:00:02\n",
      "   ---------------------------- ----------- 10.0/14.2 MB 2.9 MB/s eta 0:00:02\n",
      "   ---------------------------- ----------- 10.1/14.2 MB 2.9 MB/s eta 0:00:02\n",
      "   ---------------------------- ----------- 10.2/14.2 MB 2.9 MB/s eta 0:00:02\n",
      "   ---------------------------- ----------- 10.2/14.2 MB 2.9 MB/s eta 0:00:02\n",
      "   ---------------------------- ----------- 10.3/14.2 MB 2.8 MB/s eta 0:00:02\n",
      "   ---------------------------- ----------- 10.3/14.2 MB 2.8 MB/s eta 0:00:02\n",
      "   ----------------------------- ---------- 10.4/14.2 MB 2.8 MB/s eta 0:00:02\n",
      "   ----------------------------- ---------- 10.5/14.2 MB 2.7 MB/s eta 0:00:02\n",
      "   ------------------------------ --------- 10.7/14.2 MB 2.8 MB/s eta 0:00:02\n",
      "   ------------------------------ --------- 10.7/14.2 MB 2.8 MB/s eta 0:00:02\n",
      "   ------------------------------ --------- 10.7/14.2 MB 2.8 MB/s eta 0:00:02\n",
      "   ------------------------------ --------- 10.7/14.2 MB 2.8 MB/s eta 0:00:02\n",
      "   ------------------------------- -------- 11.3/14.2 MB 2.7 MB/s eta 0:00:02\n",
      "   -------------------------------- ------- 11.5/14.2 MB 2.7 MB/s eta 0:00:01\n",
      "   -------------------------------- ------- 11.6/14.2 MB 2.7 MB/s eta 0:00:01\n",
      "   -------------------------------- ------- 11.6/14.2 MB 2.7 MB/s eta 0:00:01\n",
      "   -------------------------------- ------- 11.6/14.2 MB 2.7 MB/s eta 0:00:01\n",
      "   --------------------------------- ------ 11.8/14.2 MB 2.6 MB/s eta 0:00:01\n",
      "   --------------------------------- ------ 12.0/14.2 MB 2.7 MB/s eta 0:00:01\n",
      "   ---------------------------------- ----- 12.1/14.2 MB 2.7 MB/s eta 0:00:01\n",
      "   ---------------------------------- ----- 12.3/14.2 MB 2.7 MB/s eta 0:00:01\n",
      "   ----------------------------------- ---- 12.4/14.2 MB 2.7 MB/s eta 0:00:01\n",
      "   ----------------------------------- ---- 12.7/14.2 MB 2.8 MB/s eta 0:00:01\n",
      "   ------------------------------------ --- 12.8/14.2 MB 2.8 MB/s eta 0:00:01\n",
      "   ------------------------------------ --- 13.0/14.2 MB 2.8 MB/s eta 0:00:01\n",
      "   ------------------------------------ --- 13.1/14.2 MB 2.8 MB/s eta 0:00:01\n",
      "   ------------------------------------- -- 13.3/14.2 MB 2.8 MB/s eta 0:00:01\n",
      "   ------------------------------------- -- 13.5/14.2 MB 2.8 MB/s eta 0:00:01\n",
      "   -------------------------------------- - 13.6/14.2 MB 2.8 MB/s eta 0:00:01\n",
      "   -------------------------------------- - 13.8/14.2 MB 2.8 MB/s eta 0:00:01\n",
      "   -------------------------------------- - 13.9/14.2 MB 2.8 MB/s eta 0:00:01\n",
      "   ---------------------------------------  14.0/14.2 MB 2.8 MB/s eta 0:00:01\n",
      "   ---------------------------------------  14.1/14.2 MB 2.8 MB/s eta 0:00:01\n",
      "   ---------------------------------------  14.2/14.2 MB 2.8 MB/s eta 0:00:01\n",
      "   ---------------------------------------  14.2/14.2 MB 2.8 MB/s eta 0:00:01\n",
      "   ---------------------------------------- 14.2/14.2 MB 2.8 MB/s eta 0:00:00\n",
      "Installing collected packages: protobuf, mysql-connector-python\n",
      "Successfully installed mysql-connector-python-8.2.0 protobuf-4.21.12\n",
      "Note: you may need to restart the kernel to use updated packages.\n"
     ]
    }
   ],
   "source": [
    "pip install mysql-connector-python"
   ]
  },
  {
   "cell_type": "code",
   "execution_count": null,
   "id": "f7cf27da",
   "metadata": {},
   "outputs": [],
   "source": [
    "SQL : \n",
    "    1. DDL \n",
    "        creating  \n",
    "         - Data base\n",
    "         - Table \n",
    "         - Alter \n",
    "    2. DML \n",
    "         - Insert \n",
    "         - Delete \n",
    "         - update \n",
    "         - Select\n",
    "    3. DCL \n",
    "         - Grant \n",
    "         - Revoke(*) \n",
    "            \n",
    "    4. DTL \n",
    "        - Revoke \n",
    "        - commit"
   ]
  },
  {
   "cell_type": "code",
   "execution_count": null,
   "id": "c7ad2ff1",
   "metadata": {},
   "outputs": [],
   "source": []
  },
  {
   "cell_type": "code",
   "execution_count": null,
   "id": "16928afd",
   "metadata": {},
   "outputs": [],
   "source": []
  },
  {
   "cell_type": "code",
   "execution_count": null,
   "id": "34fc0be3",
   "metadata": {},
   "outputs": [],
   "source": []
  },
  {
   "cell_type": "code",
   "execution_count": null,
   "id": "1903c49d",
   "metadata": {},
   "outputs": [],
   "source": []
  },
  {
   "cell_type": "code",
   "execution_count": null,
   "id": "4476ccfc",
   "metadata": {},
   "outputs": [],
   "source": []
  },
  {
   "cell_type": "code",
   "execution_count": null,
   "id": "7c7a4900",
   "metadata": {},
   "outputs": [],
   "source": []
  },
  {
   "cell_type": "code",
   "execution_count": null,
   "id": "658586cf",
   "metadata": {},
   "outputs": [],
   "source": []
  },
  {
   "cell_type": "code",
   "execution_count": null,
   "id": "6bc1e044",
   "metadata": {},
   "outputs": [],
   "source": []
  },
  {
   "cell_type": "code",
   "execution_count": null,
   "id": "068dbc95",
   "metadata": {},
   "outputs": [],
   "source": []
  },
  {
   "cell_type": "code",
   "execution_count": null,
   "id": "be15ffbb",
   "metadata": {},
   "outputs": [],
   "source": []
  },
  {
   "cell_type": "code",
   "execution_count": null,
   "id": "f126eacf",
   "metadata": {},
   "outputs": [],
   "source": []
  },
  {
   "cell_type": "code",
   "execution_count": null,
   "id": "6f659850",
   "metadata": {},
   "outputs": [],
   "source": []
  },
  {
   "cell_type": "code",
   "execution_count": null,
   "id": "703f09bb",
   "metadata": {},
   "outputs": [],
   "source": []
  },
  {
   "cell_type": "code",
   "execution_count": null,
   "id": "a7f2ec2a",
   "metadata": {},
   "outputs": [],
   "source": []
  },
  {
   "cell_type": "code",
   "execution_count": null,
   "id": "a7cb8265",
   "metadata": {},
   "outputs": [],
   "source": []
  },
  {
   "cell_type": "code",
   "execution_count": null,
   "id": "3000f357",
   "metadata": {},
   "outputs": [],
   "source": []
  }
 ],
 "metadata": {
  "kernelspec": {
   "display_name": "Python 3 (ipykernel)",
   "language": "python",
   "name": "python3"
  },
  "language_info": {
   "codemirror_mode": {
    "name": "ipython",
    "version": 3
   },
   "file_extension": ".py",
   "mimetype": "text/x-python",
   "name": "python",
   "nbconvert_exporter": "python",
   "pygments_lexer": "ipython3",
   "version": "3.11.5"
  }
 },
 "nbformat": 4,
 "nbformat_minor": 5
}
